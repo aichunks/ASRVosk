{
 "cells": [
  {
   "cell_type": "code",
   "execution_count": null,
   "id": "3147257e-3dc8-473a-86b1-20b7f234b38b",
   "metadata": {},
   "outputs": [
    {
     "name": "stderr",
     "output_type": "stream",
     "text": [
      "LOG (VoskAPI:ReadDataFiles():model.cc:213) Decoding params beam=13 max-active=7000 lattice-beam=6\n",
      "LOG (VoskAPI:ReadDataFiles():model.cc:216) Silence phones 1:2:3:4:5:6:7:8:9:10\n",
      "LOG (VoskAPI:RemoveOrphanNodes():nnet-nnet.cc:948) Removed 1 orphan nodes.\n",
      "LOG (VoskAPI:RemoveOrphanComponents():nnet-nnet.cc:847) Removing 2 orphan components.\n",
      "LOG (VoskAPI:Collapse():nnet-utils.cc:1488) Added 1 components, removed 2\n",
      "LOG (VoskAPI:ReadDataFiles():model.cc:248) Loading i-vector extractor from /media/taranjeet/Drive/Taran.aic.WorkSpace/Year_2024/1._January_2024/Date_20_01_2024/vosk-api-master/python/models/vosk-model-en-in-0.5//ivector/final.ie\n",
      "LOG (VoskAPI:ComputeDerivedVars():ivector-extractor.cc:183) Computing derived variables for iVector extractor\n",
      "LOG (VoskAPI:ComputeDerivedVars():ivector-extractor.cc:204) Done.\n",
      "LOG (VoskAPI:ReadDataFiles():model.cc:279) Loading HCLG from /media/taranjeet/Drive/Taran.aic.WorkSpace/Year_2024/1._January_2024/Date_20_01_2024/vosk-api-master/python/models/vosk-model-en-in-0.5//graph/HCLG.fst\n",
      "LOG (VoskAPI:ReadDataFiles():model.cc:297) Loading words from /media/taranjeet/Drive/Taran.aic.WorkSpace/Year_2024/1._January_2024/Date_20_01_2024/vosk-api-master/python/models/vosk-model-en-in-0.5//graph/words.txt\n",
      "LOG (VoskAPI:ReadDataFiles():model.cc:308) Loading winfo /media/taranjeet/Drive/Taran.aic.WorkSpace/Year_2024/1._January_2024/Date_20_01_2024/vosk-api-master/python/models/vosk-model-en-in-0.5//graph/phones/word_boundary.int\n",
      "LOG (VoskAPI:ReadDataFiles():model.cc:315) Loading subtract G.fst model from /media/taranjeet/Drive/Taran.aic.WorkSpace/Year_2024/1._January_2024/Date_20_01_2024/vosk-api-master/python/models/vosk-model-en-in-0.5//rescore/G.fst\n",
      "LOG (VoskAPI:ReadDataFiles():model.cc:317) Loading CARPA model from /media/taranjeet/Drive/Taran.aic.WorkSpace/Year_2024/1._January_2024/Date_20_01_2024/vosk-api-master/python/models/vosk-model-en-in-0.5//rescore/G.carpa\n"
     ]
    },
    {
     "name": "stdout",
     "output_type": "stream",
     "text": [
      "\n",
      "\n",
      "\n",
      "\n"
     ]
    },
    {
     "name": "stdin",
     "output_type": "stream",
     "text": [
      "Paste the paragraph here:  My name is Parmpal singh and i am a passionate programmer in the field of Data Science\n"
     ]
    },
    {
     "name": "stdout",
     "output_type": "stream",
     "text": [
      "\n",
      "\n",
      "\n",
      "\n",
      "\n",
      "Provided Paragraph: My name is Parmpal singh and i am a passionate programmer in the field of Data Science\n",
      "Say something:\n"
     ]
    },
    {
     "name": "stderr",
     "output_type": "stream",
     "text": [
      "ALSA lib pcm_dsnoop.c:601:(snd_pcm_dsnoop_open) unable to open slave\n",
      "ALSA lib pcm.c:2664:(snd_pcm_open_noupdate) Unknown PCM cards.pcm.rear\n",
      "ALSA lib pcm.c:2664:(snd_pcm_open_noupdate) Unknown PCM cards.pcm.center_lfe\n",
      "ALSA lib pcm.c:2664:(snd_pcm_open_noupdate) Unknown PCM cards.pcm.side\n",
      "ALSA lib pcm_route.c:877:(find_matching_chmap) Found no matching channel map\n",
      "ALSA lib pcm_route.c:877:(find_matching_chmap) Found no matching channel map\n",
      "Cannot connect to server socket err = No such file or directory\n",
      "Cannot connect to server request channel\n",
      "jack server is not running or cannot be started\n",
      "JackShmReadWritePtr::~JackShmReadWritePtr - Init not done for -1, skipping unlock\n",
      "JackShmReadWritePtr::~JackShmReadWritePtr - Init not done for -1, skipping unlock\n",
      "Cannot connect to server socket err = No such file or directory\n",
      "Cannot connect to server request channel\n",
      "jack server is not running or cannot be started\n",
      "JackShmReadWritePtr::~JackShmReadWritePtr - Init not done for -1, skipping unlock\n",
      "JackShmReadWritePtr::~JackShmReadWritePtr - Init not done for -1, skipping unlock\n",
      "ALSA lib pcm_oss.c:397:(_snd_pcm_oss_open) Cannot open device /dev/dsp\n",
      "ALSA lib pcm_oss.c:397:(_snd_pcm_oss_open) Cannot open device /dev/dsp\n",
      "ALSA lib confmisc.c:160:(snd_config_get_card) Invalid field card\n",
      "ALSA lib pcm_usb_stream.c:482:(_snd_pcm_usb_stream_open) Invalid card 'card'\n",
      "ALSA lib confmisc.c:160:(snd_config_get_card) Invalid field card\n",
      "ALSA lib pcm_usb_stream.c:482:(_snd_pcm_usb_stream_open) Invalid card 'card'\n"
     ]
    },
    {
     "name": "stdout",
     "output_type": "stream",
     "text": [
      "{\n",
      "  \"text\" : \"\"\n",
      "}\n",
      "Highlighted Paragraph: My name is Parmpal singh and i am a passionate programmer in the field of Data Science\n",
      "{\n",
      "  \"text\" : \"my name is singh\"\n",
      "}\n",
      "Highlighted Paragraph: My name is Parmpal singh and i am a passionate programmer in the field of Data Science\n",
      "{\n",
      "  \"text\" : \"a passionate programmer in the field of data science\"\n",
      "}\n",
      "Highlighted Paragraph: My name is Parmpal singh and i am a passionate programmer in the field of Data Science\n",
      "{\n",
      "  \"text\" : \"\"\n",
      "}\n",
      "Highlighted Paragraph: My name is Parmpal singh and i am a passionate programmer in the field of Data Science\n",
      "{\n",
      "  \"text\" : \"my name is karenjit saying and i am a passionate programmer in the field\"\n",
      "}\n",
      "Highlighted Paragraph: My name is Parmpal singh and i am a passionate programmer in the field of Data Science\n"
     ]
    }
   ],
   "source": [
    "from vosk import Model, KaldiRecognizer\n",
    "import pyaudio\n",
    "import re\n",
    "from termcolor import colored\n",
    "\n",
    "# Load the Vosk model\n",
    "model = Model(\"/media/taranjeet/Drive/Taran.aic.WorkSpace/Year_2024/1._January_2024/Date_20_01_2024/vosk-api-master/python/models/vosk-model-en-in-0.5/\")\n",
    "\n",
    "# Create a recognizer\n",
    "recognizer = KaldiRecognizer(model, 16000)\n",
    "\n",
    "def highlight_text(paragraph, spoken_text, correct=True):\n",
    "    # Determine the color based on correctness\n",
    "    color = 'yellow' if correct else 'red'\n",
    "\n",
    "    # Highlight the spoken text in the paragraph\n",
    "    highlighted_text = paragraph.replace(spoken_text, colored(spoken_text, color))\n",
    "\n",
    "    return highlighted_text\n",
    "\n",
    "def recognize_and_highlight(paragraph):\n",
    "    # Open a microphone stream\n",
    "    mic = pyaudio.PyAudio()\n",
    "    stream = mic.open(rate=16000, channels=1, format=pyaudio.paInt16, input=True, frames_per_buffer=8192)\n",
    "    stream.start_stream()\n",
    "\n",
    "    keywords = []  # Initialize an empty list to store keywords\n",
    "\n",
    "    try:\n",
    "        # Read the provided paragraph\n",
    "        print(\"Provided Paragraph:\", paragraph)\n",
    "\n",
    "        # Capture audio from the microphone\n",
    "        print(\"Say something:\")\n",
    "        data = stream.read(1028)\n",
    "        while len(data) > 0:\n",
    "            if recognizer.AcceptWaveform(data):\n",
    "                result = recognizer.Result()\n",
    "                print(result)\n",
    "                # Extract the spoken text from the result\n",
    "                spoken_text = result.strip()\n",
    "\n",
    "                # Add spoken text to keywords list if it's not already present\n",
    "                if spoken_text.lower() not in keywords:\n",
    "                    keywords.append(spoken_text.lower())\n",
    "\n",
    "                # Highlight the spoken text in the paragraph\n",
    "                highlighted_paragraph = highlight_text(paragraph, spoken_text)\n",
    "                print(\"Highlighted Paragraph:\", highlighted_paragraph)\n",
    "\n",
    "            data = stream.read(1028)\n",
    "\n",
    "    except KeyboardInterrupt:\n",
    "        pass\n",
    "    finally:\n",
    "        # Close the microphone stream\n",
    "        stream.stop_stream()\n",
    "        stream.close()\n",
    "        mic.terminate()\n",
    "\n",
    "if __name__ == \"__main__\":\n",
    "    # Provide the paragraph as user input\n",
    "    print()\n",
    "    print()\n",
    "    print()\n",
    "    print()\n",
    "\n",
    "    user_paragraph = input(\"Paste the paragraph here: \")\n",
    "\n",
    "\n",
    "    print()\n",
    "    print()\n",
    "    print()\n",
    "    print()\n",
    "    print()\n",
    "\n",
    "\n",
    "    # Start speech recognition and highlighting\n",
    "    recognize_and_highlight(user_paragraph)\n"
   ]
  },
  {
   "cell_type": "code",
   "execution_count": null,
   "id": "e7bc5318-2376-4410-8943-cd22665add58",
   "metadata": {},
   "outputs": [],
   "source": []
  }
 ],
 "metadata": {
  "kernelspec": {
   "display_name": "Python 3 (ipykernel)",
   "language": "python",
   "name": "python3"
  },
  "language_info": {
   "codemirror_mode": {
    "name": "ipython",
    "version": 3
   },
   "file_extension": ".py",
   "mimetype": "text/x-python",
   "name": "python",
   "nbconvert_exporter": "python",
   "pygments_lexer": "ipython3",
   "version": "3.11.7"
  }
 },
 "nbformat": 4,
 "nbformat_minor": 5
}
